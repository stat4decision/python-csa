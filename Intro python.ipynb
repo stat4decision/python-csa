{
 "cells": [
  {
   "cell_type": "markdown",
   "metadata": {},
   "source": [
    "# Introduction à python"
   ]
  },
  {
   "cell_type": "code",
   "execution_count": 3,
   "metadata": {
    "collapsed": false
   },
   "outputs": [
    {
     "name": "stdout",
     "output_type": "stream",
     "text": [
      "0.5\n"
     ]
    }
   ],
   "source": [
    "x=0.5\n",
    "print(x)"
   ]
  },
  {
   "cell_type": "code",
   "execution_count": 6,
   "metadata": {
    "collapsed": false
   },
   "outputs": [
    {
     "name": "stdout",
     "output_type": "stream",
     "text": [
      "2 3.4 True CSA\n",
      "<class 'int'> <class 'float'> <class 'bool'> <class 'str'>\n"
     ]
    },
    {
     "data": {
      "text/plain": [
       "(2, 3.4, True, 'CSA')"
      ]
     },
     "execution_count": 6,
     "metadata": {},
     "output_type": "execute_result"
    }
   ],
   "source": [
    "#Définir quatre variables distinctes, un entier, un float, un booléen et une chaîne de caractère \n",
    "#et affichez-les dans la console.\n",
    "\n",
    "a=2\n",
    "b=3.4\n",
    "c=True\n",
    "d=\"CSA\"\n",
    "print(a,b,c,d)\n",
    "print(type(a),type(b),type(c),type(d))\n",
    "a, b ,c , d"
   ]
  },
  {
   "cell_type": "code",
   "execution_count": 7,
   "metadata": {
    "collapsed": true
   },
   "outputs": [],
   "source": [
    "#on efface la variable a\n",
    "del a"
   ]
  },
  {
   "cell_type": "code",
   "execution_count": 29,
   "metadata": {
    "collapsed": false
   },
   "outputs": [
    {
     "data": {
      "text/plain": [
       "'PYTHON POUR LA DATA SCIENCE'"
      ]
     },
     "execution_count": 29,
     "metadata": {},
     "output_type": "execute_result"
    }
   ],
   "source": [
    "#Définir une variable comprenant la chaîne ‘Python pour la Science’, \n",
    "#utilisez des opérations sur les chaînes pour afficher ‘PYTHON POUR LA DATA SCIENCE’\n",
    "\n",
    "str1=\"Python pour la Science\"\n",
    "str2=(str1[:15]+\"DATA\" + str1[14:]).upper()\n",
    "str2"
   ]
  },
  {
   "cell_type": "code",
   "execution_count": 42,
   "metadata": {
    "collapsed": false
   },
   "outputs": [
    {
     "name": "stdout",
     "output_type": "stream",
     "text": [
      "c'est vrai\n"
     ]
    }
   ],
   "source": [
    "#Créez une condition qui affiche une valeur différente en fonction du booléen entré.\n",
    "bool1=True\n",
    "\n",
    "if bool1==True:\n",
    "    print(\"c'est vrai\")\n",
    "elif bool1==False:\n",
    "    print(\"c'est faux\")\n"
   ]
  },
  {
   "cell_type": "code",
   "execution_count": 49,
   "metadata": {
    "collapsed": false
   },
   "outputs": [
    {
     "name": "stdout",
     "output_type": "stream",
     "text": [
      "6\n"
     ]
    }
   ],
   "source": [
    "#Créez une boucle for qui parcourt un range de 0 à 5 et qui ajoute 1 à une variable à chaque boucle\n",
    "y=0\n",
    "for i in range(6):\n",
    "    y+=1\n",
    "print(y)"
   ]
  },
  {
   "cell_type": "markdown",
   "metadata": {},
   "source": [
    "Créez une liste composée de 5 éléments, affichez la longueur de la liste.\n",
    "Modifiez la dernière valeur de la liste et construisez une seconde liste à partir des 3 dernières valeurs de la liste initiale.\n"
   ]
  },
  {
   "cell_type": "code",
   "execution_count": 54,
   "metadata": {
    "collapsed": false
   },
   "outputs": [],
   "source": [
    "list1=[2, 5, 10, 15, 10]\n",
    "len(list1)\n",
    "list1[-1]=20"
   ]
  },
  {
   "cell_type": "code",
   "execution_count": 55,
   "metadata": {
    "collapsed": false
   },
   "outputs": [
    {
     "data": {
      "text/plain": [
       "[10, 15, 20]"
      ]
     },
     "execution_count": 55,
     "metadata": {},
     "output_type": "execute_result"
    }
   ],
   "source": [
    "list2=list1[-3:]\n",
    "list2"
   ]
  },
  {
   "cell_type": "markdown",
   "metadata": {},
   "source": [
    "Créez la chaîne ‘Vive la data science’, transformez-la en une liste de quatre éléments.  Ajoutez les valeurs ‘et’ et ‘Python’ à cette liste.  Affichez la chaîne de caractère obtenue.\n"
   ]
  },
  {
   "cell_type": "code",
   "execution_count": 72,
   "metadata": {
    "collapsed": false
   },
   "outputs": [
    {
     "data": {
      "text/plain": [
       "'Vive la data science et python'"
      ]
     },
     "execution_count": 72,
     "metadata": {},
     "output_type": "execute_result"
    }
   ],
   "source": [
    "str2=\"Vive la data science\"\n",
    "list3=str2.split(\" \")\n",
    "list3=list3+[\"et\",\"python\"]\n",
    "\" \".join(list3)"
   ]
  },
  {
   "cell_type": "markdown",
   "metadata": {},
   "source": [
    "Construire une fonction prenant en entrée deux listes et qui retourne la moyenne de tous les éléments des deux listes (une seule valeur)\n"
   ]
  },
  {
   "cell_type": "code",
   "execution_count": 76,
   "metadata": {
    "collapsed": true
   },
   "outputs": [],
   "source": [
    "#avec l'outil sum()\n",
    "def moy_listes(list1,list2):\n",
    "    return sum(list1+list2)/len(list1+list2)\n",
    "\n",
    "#sans l'outil sum()\n",
    "def moy_listes2(list1,list2):\n",
    "    moy=0.0\n",
    "    for a in list1+list2:\n",
    "        moy+=a\n",
    "    return moy/len(list1+list2)\n"
   ]
  },
  {
   "cell_type": "code",
   "execution_count": 77,
   "metadata": {
    "collapsed": false
   },
   "outputs": [
    {
     "name": "stdout",
     "output_type": "stream",
     "text": [
      "3.6666666666666665\n",
      "3.6666666666666665\n"
     ]
    }
   ],
   "source": [
    "print(moy_listes([1,2,3],[4,5,7]))\n",
    "print(moy_listes2([1,2,3],[4,5,7]))"
   ]
  },
  {
   "cell_type": "code",
   "execution_count": 78,
   "metadata": {
    "collapsed": true
   },
   "outputs": [],
   "source": [
    "#fonction renvoyant plusieurs résultats\n",
    "def moy_listes3(list1,list2):\n",
    "    return sum(list1)/len(list1),sum(list2)/len(list2),sum(list1+list2)/len(list1+list2)"
   ]
  },
  {
   "cell_type": "code",
   "execution_count": 81,
   "metadata": {
    "collapsed": true
   },
   "outputs": [],
   "source": [
    "moy1,moy2,moy12=moy_listes3([1,2,3],[4,5,7])"
   ]
  },
  {
   "cell_type": "code",
   "execution_count": 86,
   "metadata": {
    "collapsed": false
   },
   "outputs": [],
   "source": [
    "moyennes=moy_listes3([1,2,3],[4,5,7])"
   ]
  },
  {
   "cell_type": "code",
   "execution_count": 87,
   "metadata": {
    "collapsed": false
   },
   "outputs": [
    {
     "data": {
      "text/plain": [
       "(2.0, 5.333333333333333, 3.6666666666666665)"
      ]
     },
     "execution_count": 87,
     "metadata": {},
     "output_type": "execute_result"
    }
   ],
   "source": [
    "moyennes"
   ]
  },
  {
   "cell_type": "markdown",
   "metadata": {},
   "source": [
    "Construire une fonction prenant en entrée deux listes et qui affiche la phrase :\n",
    "‘La moyenne des éléments des listes liste1 et liste2 est de valeur_moyenne’\n"
   ]
  },
  {
   "cell_type": "code",
   "execution_count": 102,
   "metadata": {
    "collapsed": true
   },
   "outputs": [],
   "source": [
    "def affiche_moyennes(list1,list2):\n",
    "   return \"La moyenne des éléments des listes %s et %s est de %.2f\" %(list1,list2,moy_listes(list1,list2))\n"
   ]
  },
  {
   "cell_type": "code",
   "execution_count": 105,
   "metadata": {
    "collapsed": false
   },
   "outputs": [],
   "source": [
    "affiche_moyennes([1,2,3],[4,5,7])"
   ]
  },
  {
   "cell_type": "markdown",
   "metadata": {},
   "source": [
    "Définir une classe Client qui s’initialise avec comme variable nouveau_client et ville. \n",
    "Créer un objet client1 et affichez les valeurs allouées\n"
   ]
  },
  {
   "cell_type": "code",
   "execution_count": 137,
   "metadata": {
    "collapsed": true
   },
   "outputs": [],
   "source": [
    "class Client:\n",
    "    def __init__(self,nouveau_client=True,ville=\"Paris\"):        \n",
    "        self.nouveau_client=nouveau_client\n",
    "        self.ville=ville\n",
    "        \n",
    "    def changement_ville(self,nouvelle_ville):\n",
    "        self.ville=nouvelle_ville"
   ]
  },
  {
   "cell_type": "code",
   "execution_count": 138,
   "metadata": {
    "collapsed": false
   },
   "outputs": [],
   "source": [
    "client1=Client()"
   ]
  },
  {
   "cell_type": "code",
   "execution_count": 139,
   "metadata": {
    "collapsed": false
   },
   "outputs": [],
   "source": [
    "client1.changement_ville(\"Lyon\")"
   ]
  },
  {
   "cell_type": "code",
   "execution_count": 140,
   "metadata": {
    "collapsed": false
   },
   "outputs": [
    {
     "data": {
      "text/plain": [
       "'Lyon'"
      ]
     },
     "execution_count": 140,
     "metadata": {},
     "output_type": "execute_result"
    }
   ],
   "source": [
    "client1.ville"
   ]
  },
  {
   "cell_type": "code",
   "execution_count": 127,
   "metadata": {
    "collapsed": false
   },
   "outputs": [
    {
     "data": {
      "text/plain": [
       "'Paris'"
      ]
     },
     "execution_count": 127,
     "metadata": {},
     "output_type": "execute_result"
    }
   ],
   "source": [
    "client1.ville"
   ]
  },
  {
   "cell_type": "markdown",
   "metadata": {},
   "source": [
    "Définissez une classe CompteBancaire(), qui permette d'instancier des objets tels que compte1, compte2, etc. \n",
    "Le constructeur de cette classe initialisera deux attributs d'instance nom et solde, avec les valeurs par défaut ‘A' et 0.\u000b",
    "Trois autres méthodes sont définies :\n",
    "    - depot(somme) permettra d'ajouter une certaine somme au solde\n",
    "    - retrait(somme) permettra de retirer une certaine somme du solde\n",
    "    - affiche() permettra d'afficher le solde du compte et un message d’alerte en cas de solde négatif. "
   ]
  },
  {
   "cell_type": "code",
   "execution_count": 146,
   "metadata": {
    "collapsed": true
   },
   "outputs": [],
   "source": [
    "class CompteBancaire:\n",
    "    def __init__(self,nom=\"A\",solde=0):\n",
    "        self.nom=nom\n",
    "        self.solde=solde\n",
    "    \n",
    "    def depot(self,somme):\n",
    "        self.solde+=somme\n",
    "        \n",
    "    def retrait(self,somme):\n",
    "        self.solde-=somme\n",
    "        \n",
    "    def affiche_solde(self):\n",
    "        print(\"Le solde du compte de %s est de %.2f\" %(self.nom, self.solde))\n",
    "        if self.solde<0:\n",
    "            print(\"Attention solde négatif\")"
   ]
  },
  {
   "cell_type": "code",
   "execution_count": 147,
   "metadata": {
    "collapsed": true
   },
   "outputs": [],
   "source": [
    "compte1=CompteBancaire()"
   ]
  },
  {
   "cell_type": "code",
   "execution_count": 148,
   "metadata": {
    "collapsed": false
   },
   "outputs": [
    {
     "name": "stdout",
     "output_type": "stream",
     "text": [
      "Le solde du compte de A est de 0.00\n"
     ]
    }
   ],
   "source": [
    "compte1.affiche_solde()"
   ]
  },
  {
   "cell_type": "code",
   "execution_count": 144,
   "metadata": {
    "collapsed": true
   },
   "outputs": [],
   "source": [
    "compte1.depot(200)"
   ]
  },
  {
   "cell_type": "code",
   "execution_count": 145,
   "metadata": {
    "collapsed": false
   },
   "outputs": [
    {
     "name": "stdout",
     "output_type": "stream",
     "text": [
      "Votre solde est de 200.00\n"
     ]
    }
   ],
   "source": [
    "compte1.affiche_solde()"
   ]
  }
 ],
 "metadata": {
  "anaconda-cloud": {},
  "kernelspec": {
   "display_name": "Python [default]",
   "language": "python",
   "name": "python3"
  },
  "language_info": {
   "codemirror_mode": {
    "name": "ipython",
    "version": 3
   },
   "file_extension": ".py",
   "mimetype": "text/x-python",
   "name": "python",
   "nbconvert_exporter": "python",
   "pygments_lexer": "ipython3",
   "version": "3.5.2"
  }
 },
 "nbformat": 4,
 "nbformat_minor": 2
}
